{
  "nbformat": 4,
  "nbformat_minor": 0,
  "metadata": {
    "colab": {
      "provenance": [],
      "authorship_tag": "ABX9TyNUXAKRYhcGpinTU+I6vAM1",
      "include_colab_link": true
    },
    "kernelspec": {
      "name": "python3",
      "display_name": "Python 3"
    },
    "language_info": {
      "name": "python"
    }
  },
  "cells": [
    {
      "cell_type": "markdown",
      "metadata": {
        "id": "view-in-github",
        "colab_type": "text"
      },
      "source": [
        "<a href=\"https://colab.research.google.com/github/jacksonguedes/Introdu-o_Ciencia_Dados/blob/main/Introdu%C3%A7%C3%A3o_%C3%A0_Ci%C3%AAncia_de_Dados01.ipynb\" target=\"_parent\"><img src=\"https://colab.research.google.com/assets/colab-badge.svg\" alt=\"Open In Colab\"/></a>"
      ]
    },
    {
      "cell_type": "markdown",
      "source": [
        "# Demonstração  NumPy  \n",
        "Disciplina - Introdução à Ciência de Dados - Univesp  \n",
        "Prof. Dr. José Eduardo Santarem Segundo"
      ],
      "metadata": {
        "id": "F5KrOYKDq8Ty"
      }
    },
    {
      "cell_type": "markdown",
      "source": [
        "Importando biblioteca"
      ],
      "metadata": {
        "id": "wlrjw9AHsqI8"
      }
    },
    {
      "cell_type": "code",
      "execution_count": 1,
      "metadata": {
        "id": "BBikc70Lq2KY"
      },
      "outputs": [],
      "source": [
        "import numpy as np"
      ]
    },
    {
      "cell_type": "markdown",
      "source": [
        "Gerando um NDArray de 2x3"
      ],
      "metadata": {
        "id": "PZit2583tH6B"
      }
    },
    {
      "cell_type": "code",
      "source": [
        "dados = np.random.rand(2,3)\n",
        "dados"
      ],
      "metadata": {
        "colab": {
          "base_uri": "https://localhost:8080/"
        },
        "id": "Zw9coo95s7i7",
        "outputId": "5a7079c4-6ed4-4e6f-adf2-51732e8a8b42"
      },
      "execution_count": 2,
      "outputs": [
        {
          "output_type": "execute_result",
          "data": {
            "text/plain": [
              "array([[0.10684123, 0.45302373, 0.54264681],\n",
              "       [0.63713592, 0.99286919, 0.04644709]])"
            ]
          },
          "metadata": {},
          "execution_count": 2
        }
      ]
    },
    {
      "cell_type": "markdown",
      "source": [
        "Tipo de dado"
      ],
      "metadata": {
        "id": "aZ9HpQD3tlx7"
      }
    },
    {
      "cell_type": "code",
      "source": [
        "dados.dtype"
      ],
      "metadata": {
        "colab": {
          "base_uri": "https://localhost:8080/"
        },
        "id": "-DrLgtPmtToJ",
        "outputId": "1663997f-9efe-424d-b8ee-2b3d41e8fb07"
      },
      "execution_count": 3,
      "outputs": [
        {
          "output_type": "execute_result",
          "data": {
            "text/plain": [
              "dtype('float64')"
            ]
          },
          "metadata": {},
          "execution_count": 3
        }
      ]
    },
    {
      "cell_type": "markdown",
      "source": [
        "Tamanho dodado"
      ],
      "metadata": {
        "id": "hOQPa3bMtn7S"
      }
    },
    {
      "cell_type": "code",
      "source": [
        "dados.shape"
      ],
      "metadata": {
        "colab": {
          "base_uri": "https://localhost:8080/"
        },
        "id": "rrhJsgxVtgHS",
        "outputId": "aa72a92b-576b-4742-c580-36dfcd430aac"
      },
      "execution_count": 4,
      "outputs": [
        {
          "output_type": "execute_result",
          "data": {
            "text/plain": [
              "(2, 3)"
            ]
          },
          "metadata": {},
          "execution_count": 4
        }
      ]
    },
    {
      "cell_type": "code",
      "source": [
        "dados.ndim # 2 dimensões"
      ],
      "metadata": {
        "colab": {
          "base_uri": "https://localhost:8080/"
        },
        "id": "EGXy9VLztj5R",
        "outputId": "e4b54b7e-f59d-4592-c976-d3958ec4dd60"
      },
      "execution_count": 5,
      "outputs": [
        {
          "output_type": "execute_result",
          "data": {
            "text/plain": [
              "2"
            ]
          },
          "metadata": {},
          "execution_count": 5
        }
      ]
    },
    {
      "cell_type": "markdown",
      "source": [
        "Outras maneiras de criar arrays"
      ],
      "metadata": {
        "id": "C5nEkEoBurv_"
      }
    },
    {
      "cell_type": "code",
      "source": [
        "dadoszeros = np.zeros(10)\n",
        "dadoszeros"
      ],
      "metadata": {
        "colab": {
          "base_uri": "https://localhost:8080/"
        },
        "id": "dKP_2v6QuuwC",
        "outputId": "ac7d0d86-45b6-4456-a73e-be26268111ac"
      },
      "execution_count": 7,
      "outputs": [
        {
          "output_type": "execute_result",
          "data": {
            "text/plain": [
              "array([0., 0., 0., 0., 0., 0., 0., 0., 0., 0.])"
            ]
          },
          "metadata": {},
          "execution_count": 7
        }
      ]
    },
    {
      "cell_type": "code",
      "source": [
        "dadoszeros = np.zeros((3,10))\n",
        "dadoszeros"
      ],
      "metadata": {
        "colab": {
          "base_uri": "https://localhost:8080/"
        },
        "id": "v7xFkZERvBqz",
        "outputId": "77c88bef-a171-4f1f-f8c4-2ed43e60e2ed"
      },
      "execution_count": 8,
      "outputs": [
        {
          "output_type": "execute_result",
          "data": {
            "text/plain": [
              "array([[0., 0., 0., 0., 0., 0., 0., 0., 0., 0.],\n",
              "       [0., 0., 0., 0., 0., 0., 0., 0., 0., 0.],\n",
              "       [0., 0., 0., 0., 0., 0., 0., 0., 0., 0.]])"
            ]
          },
          "metadata": {},
          "execution_count": 8
        }
      ]
    },
    {
      "cell_type": "code",
      "source": [
        "dadosum = np.ones(10)\n",
        "dadosum"
      ],
      "metadata": {
        "colab": {
          "base_uri": "https://localhost:8080/"
        },
        "id": "woHVMkqsvMz8",
        "outputId": "a9da4c02-d3d5-4e0d-b90c-ba6529bdfb23"
      },
      "execution_count": 10,
      "outputs": [
        {
          "output_type": "execute_result",
          "data": {
            "text/plain": [
              "array([1., 1., 1., 1., 1., 1., 1., 1., 1., 1.])"
            ]
          },
          "metadata": {},
          "execution_count": 10
        }
      ]
    },
    {
      "cell_type": "code",
      "source": [
        "dadosseq = np.arange(0, 11, 2)\n",
        "dadosseq"
      ],
      "metadata": {
        "colab": {
          "base_uri": "https://localhost:8080/"
        },
        "id": "-rxQkbgWvQjR",
        "outputId": "4fdb0436-8a7c-44ff-a6de-537e8958fd21"
      },
      "execution_count": 13,
      "outputs": [
        {
          "output_type": "execute_result",
          "data": {
            "text/plain": [
              "array([ 0,  2,  4,  6,  8, 10])"
            ]
          },
          "metadata": {},
          "execution_count": 13
        }
      ]
    },
    {
      "cell_type": "markdown",
      "source": [
        "Mudança do tipo de dado"
      ],
      "metadata": {
        "id": "3q0e58RowXjw"
      }
    },
    {
      "cell_type": "code",
      "source": [
        "dadosseqf = dadosseq.astype(np.float64)\n",
        "dadosseqf"
      ],
      "metadata": {
        "colab": {
          "base_uri": "https://localhost:8080/"
        },
        "id": "pk63qLD6wCmT",
        "outputId": "f7eda1f6-5d59-4e97-af8c-2b916486f2b0"
      },
      "execution_count": 14,
      "outputs": [
        {
          "output_type": "execute_result",
          "data": {
            "text/plain": [
              "array([ 0.,  2.,  4.,  6.,  8., 10.])"
            ]
          },
          "metadata": {},
          "execution_count": 14
        }
      ]
    },
    {
      "cell_type": "markdown",
      "source": [
        "Aritmética com arrays"
      ],
      "metadata": {
        "id": "f9DhxLsFwbAh"
      }
    },
    {
      "cell_type": "code",
      "source": [
        "dados = np.array([[1, 2, 3], [4, 5, 6]])\n",
        "dados"
      ],
      "metadata": {
        "colab": {
          "base_uri": "https://localhost:8080/"
        },
        "id": "ugi_OnoWwOYx",
        "outputId": "92c7d753-d65d-493f-a590-ba80b48b89fa"
      },
      "execution_count": 16,
      "outputs": [
        {
          "output_type": "execute_result",
          "data": {
            "text/plain": [
              "array([[1, 2, 3],\n",
              "       [4, 5, 6]])"
            ]
          },
          "metadata": {},
          "execution_count": 16
        }
      ]
    },
    {
      "cell_type": "markdown",
      "source": [
        "Multiplicação"
      ],
      "metadata": {
        "id": "Ah4Ri00sxEsW"
      }
    },
    {
      "cell_type": "code",
      "source": [
        "dados * dados"
      ],
      "metadata": {
        "colab": {
          "base_uri": "https://localhost:8080/"
        },
        "id": "FOF89FAtwxKJ",
        "outputId": "f094f83b-f0ea-4486-c2da-d321ac59c936"
      },
      "execution_count": 17,
      "outputs": [
        {
          "output_type": "execute_result",
          "data": {
            "text/plain": [
              "array([[ 1,  4,  9],\n",
              "       [16, 25, 36]])"
            ]
          },
          "metadata": {},
          "execution_count": 17
        }
      ]
    },
    {
      "cell_type": "markdown",
      "source": [
        "Divisão"
      ],
      "metadata": {
        "id": "Xp7OE_itxGna"
      }
    },
    {
      "cell_type": "code",
      "source": [
        "1 / dados"
      ],
      "metadata": {
        "colab": {
          "base_uri": "https://localhost:8080/"
        },
        "id": "eegBGldIxHu5",
        "outputId": "ac849d09-e4a8-45ea-ac24-3ea688583c38"
      },
      "execution_count": 18,
      "outputs": [
        {
          "output_type": "execute_result",
          "data": {
            "text/plain": [
              "array([[1.        , 0.5       , 0.33333333],\n",
              "       [0.25      , 0.2       , 0.16666667]])"
            ]
          },
          "metadata": {},
          "execution_count": 18
        }
      ]
    },
    {
      "cell_type": "markdown",
      "source": [
        "Subtração"
      ],
      "metadata": {
        "id": "EtdOcpSBxMDy"
      }
    },
    {
      "cell_type": "code",
      "source": [
        "dados - dados"
      ],
      "metadata": {
        "colab": {
          "base_uri": "https://localhost:8080/"
        },
        "id": "0XOCKX3GxNjz",
        "outputId": "0b1ac962-3efd-4831-e661-88d2104bdbf8"
      },
      "execution_count": 20,
      "outputs": [
        {
          "output_type": "execute_result",
          "data": {
            "text/plain": [
              "array([[0, 0, 0],\n",
              "       [0, 0, 0]])"
            ]
          },
          "metadata": {},
          "execution_count": 20
        }
      ]
    },
    {
      "cell_type": "markdown",
      "source": [
        "Soma"
      ],
      "metadata": {
        "id": "If14-LCwxRWK"
      }
    },
    {
      "cell_type": "code",
      "source": [
        "dados + dados"
      ],
      "metadata": {
        "colab": {
          "base_uri": "https://localhost:8080/"
        },
        "id": "934WlYljxSUj",
        "outputId": "924002be-008a-4cb7-eb59-9ed64f2f1ed5"
      },
      "execution_count": 21,
      "outputs": [
        {
          "output_type": "execute_result",
          "data": {
            "text/plain": [
              "array([[ 2,  4,  6],\n",
              "       [ 8, 10, 12]])"
            ]
          },
          "metadata": {},
          "execution_count": 21
        }
      ]
    },
    {
      "cell_type": "markdown",
      "source": [
        "\n",
        "Gerando um novo array"
      ],
      "metadata": {
        "id": "Y61CrhCBxsgy"
      }
    },
    {
      "cell_type": "code",
      "source": [
        "dados1 = dados * dados\n",
        "dados1"
      ],
      "metadata": {
        "colab": {
          "base_uri": "https://localhost:8080/"
        },
        "id": "-GTHtv_hxvk5",
        "outputId": "eba5c66c-e90a-4dfa-8e8d-2fca48fb8ee0"
      },
      "execution_count": 24,
      "outputs": [
        {
          "output_type": "execute_result",
          "data": {
            "text/plain": [
              "array([[ 1,  4,  9],\n",
              "       [16, 25, 36]])"
            ]
          },
          "metadata": {},
          "execution_count": 24
        }
      ]
    },
    {
      "cell_type": "markdown",
      "source": [
        "Comparando os arrays"
      ],
      "metadata": {
        "id": "an09zoWFx4Jq"
      }
    },
    {
      "cell_type": "code",
      "source": [
        "dados1 > dados"
      ],
      "metadata": {
        "colab": {
          "base_uri": "https://localhost:8080/"
        },
        "id": "asSKNjgjxzzg",
        "outputId": "81a7cf62-6f94-4bb0-bca1-593db458860c"
      },
      "execution_count": 25,
      "outputs": [
        {
          "output_type": "execute_result",
          "data": {
            "text/plain": [
              "array([[False,  True,  True],\n",
              "       [ True,  True,  True]])"
            ]
          },
          "metadata": {},
          "execution_count": 25
        }
      ]
    },
    {
      "cell_type": "markdown",
      "source": [
        "Array com mais de uma dimensão"
      ],
      "metadata": {
        "id": "mGpz4rHAzOor"
      }
    },
    {
      "cell_type": "code",
      "source": [
        "dados2 = np.array([[1, 2, 3],[4, 5, 6], [7, 8, 9]])\n",
        "dados2"
      ],
      "metadata": {
        "colab": {
          "base_uri": "https://localhost:8080/"
        },
        "id": "cq6V9Qprx-CR",
        "outputId": "154c9951-6867-46f7-c4b2-accbf2fca5ee"
      },
      "execution_count": 26,
      "outputs": [
        {
          "output_type": "execute_result",
          "data": {
            "text/plain": [
              "array([[1, 2, 3],\n",
              "       [4, 5, 6],\n",
              "       [7, 8, 9]])"
            ]
          },
          "metadata": {},
          "execution_count": 26
        }
      ]
    },
    {
      "cell_type": "code",
      "source": [
        "dados2[2, 1]"
      ],
      "metadata": {
        "colab": {
          "base_uri": "https://localhost:8080/"
        },
        "id": "DqIB3UPOzfup",
        "outputId": "8487611c-1258-415a-fcd1-32157e41de8a"
      },
      "execution_count": 27,
      "outputs": [
        {
          "output_type": "execute_result",
          "data": {
            "text/plain": [
              "8"
            ]
          },
          "metadata": {},
          "execution_count": 27
        }
      ]
    },
    {
      "cell_type": "markdown",
      "source": [
        "Máscaras"
      ],
      "metadata": {
        "id": "ceY4OCaOzyFe"
      }
    },
    {
      "cell_type": "code",
      "source": [
        "mascara = (dadosseq > 5)\n",
        "mascara"
      ],
      "metadata": {
        "colab": {
          "base_uri": "https://localhost:8080/"
        },
        "id": "OH4L_MvIzkhZ",
        "outputId": "d5527825-5fe1-41b9-c7ae-6e753d00756a"
      },
      "execution_count": 29,
      "outputs": [
        {
          "output_type": "execute_result",
          "data": {
            "text/plain": [
              "array([False, False, False,  True,  True,  True])"
            ]
          },
          "metadata": {},
          "execution_count": 29
        }
      ]
    },
    {
      "cell_type": "code",
      "source": [
        "dadosseq[dadosseq>9] = 999\n",
        "dadosseq"
      ],
      "metadata": {
        "colab": {
          "base_uri": "https://localhost:8080/"
        },
        "id": "AQWDWusc0IW4",
        "outputId": "775059d5-9d5d-43b3-b31d-44f65c4b88cb"
      },
      "execution_count": 31,
      "outputs": [
        {
          "output_type": "execute_result",
          "data": {
            "text/plain": [
              "array([  0,   2,   4,   6,   8, 999])"
            ]
          },
          "metadata": {},
          "execution_count": 31
        }
      ]
    },
    {
      "cell_type": "markdown",
      "source": [
        "Transposição"
      ],
      "metadata": {
        "id": "PgMZKZw90i0u"
      }
    },
    {
      "cell_type": "code",
      "source": [
        "dados3 = np.arange(15).reshape((3,5))\n",
        "dados3"
      ],
      "metadata": {
        "colab": {
          "base_uri": "https://localhost:8080/"
        },
        "id": "1ZaVTymS0ZRZ",
        "outputId": "08ceb2ff-9cbf-4df0-e9e7-bf96a3101094"
      },
      "execution_count": 32,
      "outputs": [
        {
          "output_type": "execute_result",
          "data": {
            "text/plain": [
              "array([[ 0,  1,  2,  3,  4],\n",
              "       [ 5,  6,  7,  8,  9],\n",
              "       [10, 11, 12, 13, 14]])"
            ]
          },
          "metadata": {},
          "execution_count": 32
        }
      ]
    },
    {
      "cell_type": "code",
      "source": [
        "dados3.T"
      ],
      "metadata": {
        "colab": {
          "base_uri": "https://localhost:8080/"
        },
        "id": "fX3c0w0q090B",
        "outputId": "bcdd5e59-ce92-450a-823d-30ce8f06cbff"
      },
      "execution_count": 33,
      "outputs": [
        {
          "output_type": "execute_result",
          "data": {
            "text/plain": [
              "array([[ 0,  5, 10],\n",
              "       [ 1,  6, 11],\n",
              "       [ 2,  7, 12],\n",
              "       [ 3,  8, 13],\n",
              "       [ 4,  9, 14]])"
            ]
          },
          "metadata": {},
          "execution_count": 33
        }
      ]
    },
    {
      "cell_type": "markdown",
      "source": [
        "Multiplicação de matrizes"
      ],
      "metadata": {
        "id": "wkXKR5IQ1EbM"
      }
    },
    {
      "cell_type": "code",
      "source": [
        "np.dot(dados3.T, dados3)"
      ],
      "metadata": {
        "colab": {
          "base_uri": "https://localhost:8080/"
        },
        "id": "jaiax-A71HZ6",
        "outputId": "e6234cf0-3960-4856-91c3-fae26b589198"
      },
      "execution_count": 34,
      "outputs": [
        {
          "output_type": "execute_result",
          "data": {
            "text/plain": [
              "array([[125, 140, 155, 170, 185],\n",
              "       [140, 158, 176, 194, 212],\n",
              "       [155, 176, 197, 218, 239],\n",
              "       [170, 194, 218, 242, 266],\n",
              "       [185, 212, 239, 266, 293]])"
            ]
          },
          "metadata": {},
          "execution_count": 34
        }
      ]
    }
  ]
}